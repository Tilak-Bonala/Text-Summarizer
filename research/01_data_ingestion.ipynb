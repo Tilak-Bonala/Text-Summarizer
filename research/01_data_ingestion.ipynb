{
 "cells": [
  {
   "cell_type": "code",
   "execution_count": 14,
   "id": "fb3aeea7",
   "metadata": {},
   "outputs": [
    {
     "name": "stdout",
     "output_type": "stream",
     "text": [
      "Current working directory set to: C:\\Users\\tilak\\Desktop\\Text-Summarizer\n",
      "SRC path added to sys.path: C:\\Users\\tilak\\Desktop\\Text-Summarizer\\src\n"
     ]
    }
   ],
   "source": [
    "import os\n",
    "import sys\n",
    "from pathlib import Path\n",
    "\n",
    "# Force correct project root\n",
    "project_root = Path(\"C:/Users/tilak/Desktop/TEXT-SUMMARIZER\").resolve()\n",
    "os.chdir(project_root)\n",
    "print(\"Current working directory set to:\", os.getcwd())\n",
    "\n",
    "# Add the `src` folder to Python path\n",
    "src_path = project_root / \"src\"\n",
    "if str(src_path) not in sys.path:\n",
    "    sys.path.insert(0, str(src_path))\n",
    "\n",
    "print(\"SRC path added to sys.path:\", src_path)\n"
   ]
  },
  {
   "cell_type": "code",
   "execution_count": 15,
   "id": "88871108",
   "metadata": {},
   "outputs": [
    {
     "data": {
      "text/plain": [
       "'C:\\\\Users\\\\tilak\\\\Desktop\\\\Text-Summarizer'"
      ]
     },
     "execution_count": 15,
     "metadata": {},
     "output_type": "execute_result"
    }
   ],
   "source": [
    "%pwd"
   ]
  },
  {
   "cell_type": "code",
   "execution_count": 16,
   "id": "eb3997b2",
   "metadata": {},
   "outputs": [
    {
     "data": {
      "text/plain": [
       "'C:\\\\Users\\\\tilak\\\\Desktop\\\\Text-Summarizer'"
      ]
     },
     "execution_count": 16,
     "metadata": {},
     "output_type": "execute_result"
    }
   ],
   "source": [
    "%pwd"
   ]
  },
  {
   "cell_type": "code",
   "execution_count": 17,
   "id": "1bc225e4",
   "metadata": {},
   "outputs": [],
   "source": [
    "from dataclasses import dataclass\n",
    "from pathlib import Path\n",
    "\n",
    "@dataclass(frozen=True)\n",
    "class DataIngestionConfig:\n",
    "    root_dir: Path\n",
    "    source_url:str\n",
    "    local_data_file: Path\n",
    "    unzip_dir: Path\n",
    "    "
   ]
  },
  {
   "cell_type": "code",
   "execution_count": 18,
   "id": "a369b92d",
   "metadata": {},
   "outputs": [
    {
     "name": "stdout",
     "output_type": "stream",
     "text": [
      "True config\\config.yaml\n",
      "True params.yaml\n"
     ]
    }
   ],
   "source": [
    "from textsummarizer.constants import CONFIG_FILE_PATH, PARAMS_FILE_PATH\n",
    "from textsummarizer.utils.common import read_yaml, create_directories\n",
    "\n",
    "print(CONFIG_FILE_PATH.exists(), CONFIG_FILE_PATH)\n",
    "print(PARAMS_FILE_PATH.exists(), PARAMS_FILE_PATH)\n"
   ]
  },
  {
   "cell_type": "code",
   "execution_count": 19,
   "id": "ff831af8",
   "metadata": {},
   "outputs": [],
   "source": [
    "class ConfigurationManager:\n",
    "    def __init__(self,\n",
    "        config_filepath = CONFIG_FILE_PATH,\n",
    "        params_filepath = PARAMS_FILE_PATH):\n",
    "\n",
    "        \n",
    "        self.config = read_yaml(config_filepath)\n",
    "        self.params = read_yaml(params_filepath)\n",
    "\n",
    "        create_directories([self.config.artifacts_root])\n",
    "\n",
    "    def get_data_ingestion_config(self)->DataIngestionConfig:\n",
    "        config = self.config.data_ingestion\n",
    "        create_directories([config.root_dir])\n",
    "\n",
    "        data_ingestion_config =DataIngestionConfig(\n",
    "            root_dir =config.root_dir,\n",
    "            source_url = config.source_url,\n",
    "            local_data_file = config.local_data_file,\n",
    "            unzip_dir = config.unzip_dir\n",
    "        )\n",
    "        return data_ingestion_config\n",
    "\n"
   ]
  },
  {
   "cell_type": "code",
   "execution_count": 20,
   "id": "fa55c636",
   "metadata": {},
   "outputs": [],
   "source": [
    "import os\n",
    "import urllib.request\n",
    "import zipfile\n",
    "from textsummarizer.logging import logger\n",
    "from textsummarizer.utils.common import get_size"
   ]
  },
  {
   "cell_type": "code",
   "execution_count": 21,
   "id": "71959d14",
   "metadata": {},
   "outputs": [],
   "source": [
    "class DataIngestion:\n",
    "    def __init__(self, config: DataIngestionConfig):\n",
    "            self.config = config\n",
    "\n",
    "\n",
    "    def download_file(self):\n",
    "        if not os.path.exists(self.config.local_data_file):\n",
    "            filename, headers = urllib.request.urlretrieve(\n",
    "                      url =self.config.source_url,\n",
    "                      filename =self.config.local_data_file\n",
    "            )\n",
    "            logger.info(f\"{filename} download! with following info:\\n{headers}\")\n",
    "        else:\n",
    "             logger.info(f\"File already exists at size of :{get_size(Path(self.config.local_data_file))}\")\n",
    "\n",
    "    def extract_zip_file(self):\n",
    "         \"\"\" zip_file_path: str\n",
    "         Extracts the zip file into the specified directory.\n",
    "         Function will returns None if the extraction is successful, otherwise it will raise an exception.\n",
    "         \"\"\"\n",
    "\n",
    "         unzip_path = self.config.unzip_dir\n",
    "         os.makedirs(unzip_path, exist_ok =True)\n",
    "         with zipfile.ZipFile(self.config.local_data_file, 'r') as zip_ref:\n",
    "              zip_ref.extractall(unzip_path)             "
   ]
  },
  {
   "cell_type": "code",
   "execution_count": 22,
   "id": "ce46c427",
   "metadata": {},
   "outputs": [
    {
     "name": "stdout",
     "output_type": "stream",
     "text": [
      "[2025-08-23 19:35:39,796]:INFO:common: yaml file: config\\config.yaml loaded successfully]\n",
      "[2025-08-23 19:35:39,804]:INFO:common: yaml file: params.yaml loaded successfully]\n",
      "[2025-08-23 19:35:39,807]:INFO:common: created directory at: artifacts]\n",
      "[2025-08-23 19:35:39,808]:INFO:common: created directory at: artifacts/data_ingestion]\n",
      "[2025-08-23 19:35:39,810]:INFO:812940721: File already exists at size of :~ 7718 KB]\n"
     ]
    }
   ],
   "source": [
    "try:\n",
    "    config = ConfigurationManager()\n",
    "    data_ingestion_config = config.get_data_ingestion_config()\n",
    "    data_ingestion = DataIngestion(config=data_ingestion_config)\n",
    "    data_ingestion.download_file()\n",
    "    data_ingestion.extract_zip_file()\n",
    "except Exception as e:\n",
    "    raise e"
   ]
  },
  {
   "cell_type": "code",
   "execution_count": null,
   "id": "b967bf85",
   "metadata": {},
   "outputs": [],
   "source": []
  },
  {
   "cell_type": "code",
   "execution_count": null,
   "id": "48c5e973",
   "metadata": {},
   "outputs": [],
   "source": []
  }
 ],
 "metadata": {
  "kernelspec": {
   "display_name": "textSM",
   "language": "python",
   "name": "python3"
  },
  "language_info": {
   "codemirror_mode": {
    "name": "ipython",
    "version": 3
   },
   "file_extension": ".py",
   "mimetype": "text/x-python",
   "name": "python",
   "nbconvert_exporter": "python",
   "pygments_lexer": "ipython3",
   "version": "3.13.5"
  }
 },
 "nbformat": 4,
 "nbformat_minor": 5
}
